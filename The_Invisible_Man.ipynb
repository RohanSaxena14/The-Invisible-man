{
  "nbformat": 4,
  "nbformat_minor": 0,
  "metadata": {
    "colab": {
      "name": "The-Invisible-Man.ipynb",
      "provenance": [],
      "collapsed_sections": []
    },
    "kernelspec": {
      "name": "python3",
      "display_name": "Python 3"
    }
  },
  "cells": [
    {
      "cell_type": "markdown",
      "metadata": {
        "id": "sN9IgMLHfnHm",
        "colab_type": "text"
      },
      "source": [
        "# ****This code block take cares of all the imports we will be needing here.****"
      ]
    },
    {
      "cell_type": "code",
      "metadata": {
        "id": "xCQd1Md8dsZI",
        "colab_type": "code",
        "colab": {}
      },
      "source": [
        "import torch\n",
        "from PIL import Image, ImageFilter\n",
        "from matplotlib import pyplot as plt\n",
        "import numpy as np\n",
        "import torchvision.transforms as T\n",
        "from torchvision import models"
      ],
      "execution_count": 0,
      "outputs": []
    },
    {
      "cell_type": "markdown",
      "metadata": {
        "id": "4585Xzx8f9GC",
        "colab_type": "text"
      },
      "source": [
        "# **Using compose function from torch vision library we will build a pipeline to resize the input image and convert it into a notrmalized tensor.** "
      ]
    },
    {
      "cell_type": "code",
      "metadata": {
        "id": "SJns-d-Sd_q3",
        "colab_type": "code",
        "colab": {}
      },
      "source": [
        "preprocess = T.Compose([\n",
        "                        T.Resize(256),\n",
        "                        #T.CenterCrop(224),\n",
        "                        T.ToTensor(),\n",
        "                        T.Normalize(mean = [0.485, 0.456, 0.406],std = [0.229, 0.224, 0.225])\n",
        "])"
      ],
      "execution_count": 0,
      "outputs": []
    },
    {
      "cell_type": "markdown",
      "metadata": {
        "id": "Ljg1SNnfhFV5",
        "colab_type": "text"
      },
      "source": [
        "# **Downloading a pretrained model for image segmentation**"
      ]
    },
    {
      "cell_type": "code",
      "metadata": {
        "id": "pYC_KI6SeCOd",
        "colab_type": "code",
        "colab": {}
      },
      "source": [
        "fcn = models.segmentation.fcn_resnet101(pretrained=True).eval()"
      ],
      "execution_count": 0,
      "outputs": []
    },
    {
      "cell_type": "markdown",
      "metadata": {
        "id": "iyjfNJa9hSkl",
        "colab_type": "text"
      },
      "source": [
        "#**This function feeds the input image into network and puts specified colors on different output categories.**"
      ]
    },
    {
      "cell_type": "code",
      "metadata": {
        "id": "cONiEBnReLMy",
        "colab_type": "code",
        "colab": {}
      },
      "source": [
        "def decode_segmap(image, nc=21):\n",
        "  label_colors = np.array([(0, 0, 0),  # 0=background\n",
        "               # 1=aeroplane, 2=bicycle, 3=bird, 4=boat, 5=bottle\n",
        "               (128, 0, 0), (0, 128, 0), (128, 128, 0), (0, 0, 128), (128, 0, 128),\n",
        "               # 6=bus, 7=car, 8=cat, 9=chair, 10=cow\n",
        "               (0, 128, 128), (128, 128, 128), (64, 0, 0), (192, 0, 0), (64, 128, 0),\n",
        "               # 11=dining table, 12=dog, 13=horse, 14=motorbike, 15=person\n",
        "               (192, 128, 0), (64, 0, 128), (192, 0, 128), (64, 128, 128), (192, 128, 128),\n",
        "               # 16=potted plant, 17=sheep, 18=sofa, 19=train, 20=tv/monitor\n",
        "               (0, 64, 0), (128, 64, 0), (0, 192, 0), (128, 192, 0), (0, 64, 128)])\n",
        "  label_colors = np.array([(0, 0, 0)]*15 + [(255, 255, 255)] + [(0, 0, 0)]*5)\n",
        "\n",
        "  r = np.zeros_like(image).astype(np.uint8)\n",
        "\n",
        "  g = np.zeros_like(image).astype(np.uint8)\n",
        "\n",
        "  b = np.zeros_like(image).astype(np.uint8)\n",
        "\n",
        "  for l in range(0, nc):\n",
        "    idx = image == l\n",
        "    r[idx] = label_colors[l, 0]\n",
        "    g[idx] = label_colors[l, 1]\n",
        "    b[idx] = label_colors[l, 2]\n",
        "  rgb = np.stack([r, g, b], axis=2)\n",
        "  return rgb\n"
      ],
      "execution_count": 0,
      "outputs": []
    },
    {
      "cell_type": "markdown",
      "metadata": {
        "id": "6lEukb8zh72C",
        "colab_type": "text"
      },
      "source": [
        "#**This fucntion takes background and forground image and performs following operations**\n",
        "\n",
        "\n",
        "1.   **Create a mask is the specified person's location in the image.**\n",
        "2.   **Using this mask remove the corresponding region from the current image.**\n",
        "3. **Also cut the same portion from the already feeded background image.**\n",
        "4. **Merge the two cuts to hide the presence of only the person from current frame.**\n",
        "\n"
      ]
    },
    {
      "cell_type": "code",
      "metadata": {
        "id": "LQGggfJ_eaw3",
        "colab_type": "code",
        "colab": {}
      },
      "source": [
        "import cv2\n",
        "\n",
        "def make_me_invisible(fore_img, back_img):\n",
        "  inp = preprocess(fore_img).unsqueeze(0)\n",
        "  fcn = models.segmentation.fcn_resnet101(pretrained=True).eval()\n",
        "  out = fcn(inp)['out']\n",
        "  om = torch.argmax(out.squeeze(), dim=0).detach().cpu().numpy()\n",
        "  masked = decode_segmap(om)\n",
        "\n",
        "  masked = Image.fromarray(masked)\n",
        "  masked = masked.filter(ImageFilter.MaxFilter(size = 19))\n",
        "\n",
        "  masked = np.asarray(masked)  \n",
        "\n",
        "  fore_img = np.asarray(fore_img)\n",
        "  fore_img = cv2.resize(fore_img, (masked.shape[1], masked.shape[0]))\n",
        "\n",
        "  back_img = cv2.resize(back_img, (masked.shape[1], masked.shape[0]))\n",
        "  foreground = cv2.bitwise_and(back_img, masked)\n",
        "  foreground = cv2.cvtColor(foreground, cv2.COLOR_BGR2RGB)\n",
        "\n",
        "  masked = 255 - masked\n",
        "  background = cv2.bitwise_and(fore_img, masked)\n",
        "  background = cv2.cvtColor(background, cv2.COLOR_BGR2RGB)\n",
        "\n",
        "  merged = cv2.add(foreground, background)\n",
        "  return merged"
      ],
      "execution_count": 0,
      "outputs": []
    },
    {
      "cell_type": "markdown",
      "metadata": {
        "id": "dGpbi8rumLtH",
        "colab_type": "text"
      },
      "source": [
        "# **Input the images and have fun, you can also run it on a video if you like**"
      ]
    },
    {
      "cell_type": "code",
      "metadata": {
        "id": "bYZruOsfeiIj",
        "colab_type": "code",
        "colab": {}
      },
      "source": [
        "fore_img = cv2.imread(\"foreground.jfif\")\n",
        "back_img = cv2.imread(\"background.jfif\")\n",
        "\n",
        "fore_img = Image.fromarray(fore_img)\n",
        "\n",
        "output = make_me_invisible(fore_img, back_img)\n",
        "plt.imshow(output)\n",
        "plt.show()"
      ],
      "execution_count": 0,
      "outputs": []
    }
  ]
}